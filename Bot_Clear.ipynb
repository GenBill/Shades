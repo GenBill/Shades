{
 "cells": [
  {
   "cell_type": "code",
   "execution_count": 1,
   "source": [
    "import numpy as np\r\n",
    "import math as ma\r\n",
    "import joblib \r\n",
    "import matplotlib as mpl\r\n",
    "\r\n",
    "import torch\r\n",
    "import torch.nn as nn\r\n",
    "import numpy as np\r\n",
    "import matplotlib.pyplot as plt\r\n",
    "import IPython\r\n",
    "import math\r\n",
    "import os\r\n",
    "\r\n",
    "import torch.nn.functional as F\r\n",
    "from torch import optim\r\n",
    "import random\r\n",
    "\r\n",
    "from tqdm import tqdm"
   ],
   "outputs": [],
   "metadata": {}
  },
  {
   "cell_type": "code",
   "execution_count": 2,
   "source": [
    "length_of_dataset = 2500\r\n",
    "\r\n",
    "adv_fea = open('./logits/adv_3','r')\r\n",
    "adv_fea = adv_fea.read()\r\n",
    "adv_fea = adv_fea.replace('\\n', ',').split(',')\r\n",
    "adv_fea = np.array(adv_fea).reshape((-1,10)).astype(float)\r\n",
    "\r\n",
    "clean_fea = open('./logits/clean_3','r')\r\n",
    "clean_fea = clean_fea.read()\r\n",
    "clean_fea = clean_fea.replace('\\n', ',').split(',')\r\n",
    "clean_fea = np.array(clean_fea).reshape((-1,10)).astype(float)"
   ],
   "outputs": [],
   "metadata": {}
  },
  {
   "cell_type": "code",
   "execution_count": 3,
   "source": [
    "x1 = adv_fea[:length_of_dataset]\r\n",
    "x2 = clean_fea[:length_of_dataset]\r\n",
    "\r\n",
    "print(x1.shape)\r\n",
    "print(x2.shape)"
   ],
   "outputs": [
    {
     "output_type": "stream",
     "name": "stdout",
     "text": [
      "(2500, 10)\n",
      "(2500, 10)\n"
     ]
    }
   ],
   "metadata": {}
  },
  {
   "cell_type": "code",
   "execution_count": 4,
   "source": [
    "os.environ['CUDA_VISIBLE_DEVICES'] = '0'    # '0,1,2,3'\r\n",
    "device = torch.device(\"cuda\" if torch.cuda.is_available() else \"cpu\")"
   ],
   "outputs": [],
   "metadata": {}
  },
  {
   "cell_type": "code",
   "execution_count": 5,
   "source": [
    "class MySquare_mod(nn.Module):\r\n",
    "    def __init__(self, n_input, n_output):\r\n",
    "        super(MySquare_mod, self).__init__()\r\n",
    "        # define self.A and self.b the weights and biases\r\n",
    "        # initialize them with a normal distribution\r\n",
    "        # use nn.Parameters\r\n",
    "        self.n_input = n_input\r\n",
    "        self.n_output = n_output\r\n",
    "        self.seight = nn.Parameter(torch.rand(n_input, n_output)/100000, requires_grad=True)\r\n",
    "        self.weight = nn.Parameter(torch.rand(n_input, n_output)/10000, requires_grad=True)\r\n",
    "        self.bias = nn.Parameter(torch.rand(1, n_output), requires_grad=True)\r\n",
    "\r\n",
    "    def forward(self, x):\r\n",
    "        return (x*x) @ self.seight + x @ self.weight + self.bias\r\n",
    "\r\n",
    "MyTemplateNet = nn.Sequential(\r\n",
    "    MySquare_mod(10, 32),\r\n",
    "    nn.LeakyReLU(),\r\n",
    "    nn.Linear(32, 32),\r\n",
    "    nn.LeakyReLU(),\r\n",
    "    MySquare_mod(32, 32),\r\n",
    "    nn.LeakyReLU(),\r\n",
    "    nn.Linear(32, 2),\r\n",
    ")\r\n",
    "\r\n",
    "net = MyTemplateNet.to(device) # 构造模型\r\n",
    "\r\n",
    "if torch.cuda.device_count() > 1: \r\n",
    "    print(\"Let's use\", torch.cuda.device_count(), \"GPUs!\")\r\n",
    "net = nn.DataParallel(net)\r\n",
    "# net = net.to(device)"
   ],
   "outputs": [],
   "metadata": {}
  },
  {
   "cell_type": "code",
   "execution_count": 6,
   "source": [
    "this_Epoch = 0\r\n",
    "checkpoint_path = './models'\r\n",
    "\r\n",
    "if this_Epoch != 0 :\r\n",
    "    net.load_state_dict(torch.load('%s/Epoch_%d.pth' % (checkpoint_path, this_Epoch), map_location=device))"
   ],
   "outputs": [],
   "metadata": {}
  },
  {
   "cell_type": "code",
   "execution_count": 7,
   "source": [
    "X1_torch = torch.from_numpy(x1).float().to(device)\r\n",
    "X2_torch = torch.from_numpy(x2).float().to(device)\r\n",
    "X_torch = torch.cat((X1_torch, X2_torch), dim=0)\r\n",
    "X_torch, _ = torch.sort(X_torch)\r\n",
    "\r\n",
    "Y_torch = torch.cat((torch.ones(length_of_dataset), torch.zeros(length_of_dataset)), dim=0)\r\n",
    "Y_torch = Y_torch.long().to(device)\r\n",
    "\r\n",
    "optimizer = optim.SGD(\r\n",
    "    [\r\n",
    "        # {'params': (p for name, p in net.named_parameters() if 'seight' in name), 'lr': 5e-7, 'momentum': 0.4, 'weight_decay': 1e-4},\r\n",
    "        {'params': (p for name, p in net.named_parameters() if 'weight' in name), 'lr': 1e-3, 'momentum': 0., 'weight_decay': 0.},\r\n",
    "        {'params': (p for name, p in net.named_parameters() if 'bias' in name), 'lr': 1e-3, 'momentum': 0., 'weight_decay': 0.}\r\n",
    "    ]   # , lr=1e-3, momentum=0.8, weight_decay=0.001\r\n",
    ")\r\n",
    "\r\n",
    "# criterion = MyLoss_mod(nn.MSELoss(reduction='none'))          # 可以处理NAN的情况，但结果没有意义\r\n",
    "# criterion = MyLoss_mod(nn.BCELoss(reduction='none'))          # 当出现pred爆炸时会触发cuda错误\r\n",
    "criterion = nn.CrossEntropyLoss()\r\n",
    "\r\n",
    "sample_size = len(X_torch)\r\n",
    "batch_size = 32\r\n",
    "epoch_num = 1000\r\n",
    "losses = []\r\n",
    "acc_rates = []\r\n",
    "# pred_list = []\r\n",
    "# label_list = []"
   ],
   "outputs": [],
   "metadata": {}
  },
  {
   "cell_type": "code",
   "execution_count": 8,
   "source": [
    "net.train()\r\n",
    "for epoch in tqdm(range(1,epoch_num)):\r\n",
    "    rand_index = random.sample(range(0,sample_size), sample_size)\r\n",
    "    it_max = math.ceil(sample_size/batch_size)\r\n",
    "    # for it in tqdm(range(it_max)):\r\n",
    "    acc = 0\r\n",
    "    for it in range(it_max):\r\n",
    "        # pick a random example id \r\n",
    "        j = it * batch_size\r\n",
    "        # select the corresponding example and label\r\n",
    "        if j+batch_size <= sample_size:\r\n",
    "            example = X_torch[rand_index[j:j+batch_size]]\r\n",
    "            label = Y_torch[rand_index[j:j+batch_size]]\r\n",
    "        else:\r\n",
    "            example = X_torch[rand_index[j:]]\r\n",
    "            label = Y_torch[rand_index[j:]]\r\n",
    "        # do a forward pass on the example\r\n",
    "        pred = net(example)\r\n",
    "        pred_top_1 = torch.topk(pred, k=1, dim=1)[1]\r\n",
    "        acc += pred_top_1.eq(label.view_as(pred_top_1)).int().sum().item()\r\n",
    "        # compute the loss according to your output and the label\r\n",
    "        # print(pred, label)\r\n",
    "        loss = criterion(pred, label)\r\n",
    "        optimizer.zero_grad()\r\n",
    "        # backward pass\r\n",
    "        loss.backward()\r\n",
    "        # gradient step\r\n",
    "        optimizer.step()\r\n",
    "        \r\n",
    "    # End Epoch : append loss.item()\r\n",
    "    acc_rate = acc/sample_size\r\n",
    "    losses.append(loss.item())\r\n",
    "    acc_rates.append(acc_rate)\r\n",
    "    if epoch % 50 == 0 :\r\n",
    "        print('Epoch:', epoch, ', loss:', loss.item(), ', acc:', acc_rate)\r\n",
    "    if epoch % 500 == 0 :\r\n",
    "        torch.save(net.state_dict(), '%s/Epoch_%d.pth' % (checkpoint_path, this_Epoch+epoch))"
   ],
   "outputs": [
    {
     "output_type": "stream",
     "name": "stderr",
     "text": [
      "  5%|▌         | 50/999 [00:17<04:30,  3.51it/s]"
     ]
    },
    {
     "output_type": "stream",
     "name": "stdout",
     "text": [
      "Epoch: 50 , loss: 0.6912466883659363 , acc: 0.4944\n"
     ]
    },
    {
     "output_type": "stream",
     "name": "stderr",
     "text": [
      " 10%|█         | 100/999 [00:31<04:13,  3.55it/s]"
     ]
    },
    {
     "output_type": "stream",
     "name": "stdout",
     "text": [
      "Epoch: 100 , loss: 0.6929519772529602 , acc: 0.4978\n"
     ]
    },
    {
     "output_type": "stream",
     "name": "stderr",
     "text": [
      " 15%|█▌        | 150/999 [00:46<03:57,  3.58it/s]"
     ]
    },
    {
     "output_type": "stream",
     "name": "stdout",
     "text": [
      "Epoch: 150 , loss: 0.6929934024810791 , acc: 0.497\n"
     ]
    },
    {
     "output_type": "stream",
     "name": "stderr",
     "text": [
      " 20%|██        | 200/999 [01:00<03:55,  3.39it/s]"
     ]
    },
    {
     "output_type": "stream",
     "name": "stdout",
     "text": [
      "Epoch: 200 , loss: 0.693111002445221 , acc: 0.4904\n"
     ]
    },
    {
     "output_type": "stream",
     "name": "stderr",
     "text": [
      " 25%|██▌       | 250/999 [01:14<03:36,  3.46it/s]"
     ]
    },
    {
     "output_type": "stream",
     "name": "stdout",
     "text": [
      "Epoch: 250 , loss: 0.6959172487258911 , acc: 0.494\n"
     ]
    },
    {
     "output_type": "stream",
     "name": "stderr",
     "text": [
      " 30%|███       | 300/999 [01:28<03:21,  3.47it/s]"
     ]
    },
    {
     "output_type": "stream",
     "name": "stdout",
     "text": [
      "Epoch: 300 , loss: 0.6931227445602417 , acc: 0.506\n"
     ]
    },
    {
     "output_type": "stream",
     "name": "stderr",
     "text": [
      " 35%|███▌      | 350/999 [01:43<03:01,  3.57it/s]"
     ]
    },
    {
     "output_type": "stream",
     "name": "stdout",
     "text": [
      "Epoch: 350 , loss: 0.6930719614028931 , acc: 0.4998\n"
     ]
    },
    {
     "output_type": "stream",
     "name": "stderr",
     "text": [
      " 40%|████      | 400/999 [01:57<02:59,  3.33it/s]"
     ]
    },
    {
     "output_type": "stream",
     "name": "stdout",
     "text": [
      "Epoch: 400 , loss: 0.6964841485023499 , acc: 0.5048\n"
     ]
    },
    {
     "output_type": "stream",
     "name": "stderr",
     "text": [
      " 45%|████▌     | 450/999 [02:11<02:37,  3.49it/s]"
     ]
    },
    {
     "output_type": "stream",
     "name": "stdout",
     "text": [
      "Epoch: 450 , loss: 0.6936684250831604 , acc: 0.5018\n"
     ]
    },
    {
     "output_type": "stream",
     "name": "stderr",
     "text": [
      " 50%|█████     | 500/999 [02:25<02:22,  3.51it/s]"
     ]
    },
    {
     "output_type": "stream",
     "name": "stdout",
     "text": [
      "Epoch: 500 , loss: 0.6929721832275391 , acc: 0.5024\n"
     ]
    },
    {
     "output_type": "stream",
     "name": "stderr",
     "text": [
      " 55%|█████▌    | 550/999 [02:40<02:09,  3.46it/s]"
     ]
    },
    {
     "output_type": "stream",
     "name": "stdout",
     "text": [
      "Epoch: 550 , loss: 0.6932653188705444 , acc: 0.5202\n"
     ]
    },
    {
     "output_type": "stream",
     "name": "stderr",
     "text": [
      " 60%|██████    | 600/999 [02:54<01:56,  3.41it/s]"
     ]
    },
    {
     "output_type": "stream",
     "name": "stdout",
     "text": [
      "Epoch: 600 , loss: 0.6929725408554077 , acc: 0.5096\n"
     ]
    },
    {
     "output_type": "stream",
     "name": "stderr",
     "text": [
      " 65%|██████▌   | 650/999 [03:10<01:35,  3.66it/s]"
     ]
    },
    {
     "output_type": "stream",
     "name": "stdout",
     "text": [
      "Epoch: 650 , loss: 0.6926394701004028 , acc: 0.515\n"
     ]
    },
    {
     "output_type": "stream",
     "name": "stderr",
     "text": [
      " 70%|███████   | 700/999 [03:23<01:17,  3.87it/s]"
     ]
    },
    {
     "output_type": "stream",
     "name": "stdout",
     "text": [
      "Epoch: 700 , loss: 0.6938046813011169 , acc: 0.5544\n"
     ]
    },
    {
     "output_type": "stream",
     "name": "stderr",
     "text": [
      " 75%|███████▌  | 750/999 [03:36<01:05,  3.82it/s]"
     ]
    },
    {
     "output_type": "stream",
     "name": "stdout",
     "text": [
      "Epoch: 750 , loss: 0.6935986876487732 , acc: 0.571\n"
     ]
    },
    {
     "output_type": "stream",
     "name": "stderr",
     "text": [
      " 80%|████████  | 800/999 [03:52<01:09,  2.86it/s]"
     ]
    },
    {
     "output_type": "stream",
     "name": "stdout",
     "text": [
      "Epoch: 800 , loss: 0.6915104389190674 , acc: 0.5984\n"
     ]
    },
    {
     "output_type": "stream",
     "name": "stderr",
     "text": [
      " 85%|████████▌ | 850/999 [04:06<00:38,  3.88it/s]"
     ]
    },
    {
     "output_type": "stream",
     "name": "stdout",
     "text": [
      "Epoch: 850 , loss: 0.6946702599525452 , acc: 0.6116\n"
     ]
    },
    {
     "output_type": "stream",
     "name": "stderr",
     "text": [
      " 90%|█████████ | 900/999 [04:20<00:25,  3.84it/s]"
     ]
    },
    {
     "output_type": "stream",
     "name": "stdout",
     "text": [
      "Epoch: 900 , loss: 0.6794165372848511 , acc: 0.5944\n"
     ]
    },
    {
     "output_type": "stream",
     "name": "stderr",
     "text": [
      " 95%|█████████▌| 950/999 [04:33<00:14,  3.29it/s]"
     ]
    },
    {
     "output_type": "stream",
     "name": "stdout",
     "text": [
      "Epoch: 950 , loss: 0.6840087175369263 , acc: 0.6036\n"
     ]
    },
    {
     "output_type": "stream",
     "name": "stderr",
     "text": [
      "100%|██████████| 999/999 [04:47<00:00,  3.47it/s]\n"
     ]
    }
   ],
   "metadata": {}
  },
  {
   "cell_type": "code",
   "execution_count": 9,
   "source": [
    "%matplotlib inline\r\n",
    "plt.plot(losses)\r\n",
    "plt.plot(acc_rates)\r\n",
    "# plt.plot(pred_list-label_list)"
   ],
   "outputs": [
    {
     "output_type": "execute_result",
     "data": {
      "text/plain": [
       "[<matplotlib.lines.Line2D at 0x1be13eca7c0>]"
      ]
     },
     "metadata": {},
     "execution_count": 9
    },
    {
     "output_type": "display_data",
     "data": {
      "image/png": "[encoded data removed]",
      "text/plain": [
       "<Figure size 432x288 with 1 Axes>"
      ]
     },
     "metadata": {
      "needs_background": "light"
     }
    }
   ],
   "metadata": {}
  },
  {
   "cell_type": "code",
   "execution_count": 10,
   "source": [
    "torch.save(net.state_dict(), '%s/Epoch_%d.pth' % (checkpoint_path, this_Epoch+epoch_num))"
   ],
   "outputs": [],
   "metadata": {}
  },
  {
   "cell_type": "code",
   "execution_count": 11,
   "source": [
    "x3 = adv_fea[length_of_dataset:]\r\n",
    "x4 = clean_fea[length_of_dataset:]\r\n",
    "\r\n",
    "X3_torch = torch.from_numpy(x3).float().to(device)\r\n",
    "X4_torch = torch.from_numpy(x4).float().to(device)\r\n",
    "\r\n",
    "Eval_torch = torch.cat((X3_torch, X4_torch), dim=0)\r\n",
    "Eval_torch, _ = torch.sort(Eval_torch)\r\n",
    "Eval_label = Y_torch"
   ],
   "outputs": [],
   "metadata": {}
  },
  {
   "cell_type": "code",
   "execution_count": 12,
   "source": [
    "net.eval()\r\n",
    "sample_size = 5000\r\n",
    "with torch.no_grad():\r\n",
    "    it_max = math.ceil(sample_size/batch_size)\r\n",
    "    for it in range(it_max):\r\n",
    "        # pick a random example id \r\n",
    "        j = it * batch_size\r\n",
    "        # select the corresponding example and label\r\n",
    "        if j+batch_size <= sample_size:\r\n",
    "            example = Eval_torch[j:j+batch_size, :]\r\n",
    "            label = Eval_label[j:j+batch_size]\r\n",
    "        else:\r\n",
    "            example = Eval_torch[j:, :]\r\n",
    "            label = Eval_label[j:]\r\n",
    "        \r\n",
    "        # do a forward pass on the example\r\n",
    "        pred = net(example)\r\n",
    "        pred_top_1 = torch.argmax(pred, dim=1)\r\n",
    "        Acc = (pred_top_1==label).sum().item()\r\n",
    "\r\n",
    "print('Acc Rate :', Acc/sample_size)\r\n"
   ],
   "outputs": [
    {
     "output_type": "stream",
     "name": "stdout",
     "text": [
      "Acc Rate : 0.0006\n"
     ]
    }
   ],
   "metadata": {}
  }
 ],
 "metadata": {
  "orig_nbformat": 4,
  "language_info": {
   "name": "python",
   "version": "3.8.11",
   "mimetype": "text/x-python",
   "codemirror_mode": {
    "name": "ipython",
    "version": 3
   },
   "pygments_lexer": "ipython3",
   "nbconvert_exporter": "python",
   "file_extension": ".py"
  },
  "kernelspec": {
   "name": "python3",
   "display_name": "Python 3.8.11 64-bit ('base': conda)"
  },
  "interpreter": {
   "hash": "97ae724bfa85b9b34df7982b8bb8c7216f435b92902d749e4263f71162bea840"
  }
 },
 "nbformat": 4,
 "nbformat_minor": 2
}